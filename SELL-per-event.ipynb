{
 "cells": [
  {
   "cell_type": "code",
   "execution_count": 1,
   "id": "e7ea2af7",
   "metadata": {},
   "outputs": [],
   "source": [
    "import pandas as pd\n",
    "import numpy as np\n",
    "import statistics as stat\n",
    "import matplotlib.pyplot as plt\n",
    "import statistics as stat"
   ]
  },
  {
   "cell_type": "code",
   "execution_count": 2,
   "id": "1010aeb8",
   "metadata": {},
   "outputs": [],
   "source": [
    "data = pd.read_csv('scdb-test-metrics.csv', names = ['Event', 'Time', 'Tx_type', 'Tx_id', 'Accept_id', 'time'])"
   ]
  },
  {
   "cell_type": "code",
   "execution_count": 3,
   "id": "588a02bd",
   "metadata": {},
   "outputs": [
    {
     "data": {
      "text/plain": [
       "5834"
      ]
     },
     "execution_count": 3,
     "metadata": {},
     "output_type": "execute_result"
    }
   ],
   "source": [
    "grouped_data = data.groupby('Tx_id')\n",
    "tx_id = list(grouped_data.groups.keys())\n",
    "len(tx_id)"
   ]
  },
  {
   "cell_type": "code",
   "execution_count": 4,
   "id": "df8d9d34",
   "metadata": {},
   "outputs": [
    {
     "name": "stdout",
     "output_type": "stream",
     "text": [
      "#SELLs =  89\n"
     ]
    }
   ],
   "source": [
    "#new data frame to get the count of each transaction type\n",
    "data_unique_ids = data.drop_duplicates(subset = ['Tx_id'])\n",
    "\n",
    "accept_count = 0\n",
    "accept_ids = []\n",
    "for i in range(0, len(data_unique_ids)):\n",
    "    if data_unique_ids.iloc[i]['Tx_type'] == 'SELL':\n",
    "        accept_ids.append(data_unique_ids.iloc[i]['Tx_id'])\n",
    "        accept_count += 1   \n",
    "\n",
    "\n",
    "print(f\"#SELLs =  {accept_count}\")"
   ]
  },
  {
   "cell_type": "code",
   "execution_count": 5,
   "id": "bb54cf6d",
   "metadata": {},
   "outputs": [],
   "source": [
    "time_all_committed_accepts = {}\n",
    "time_passed_accepts = []\n",
    "validated_time = []\n",
    "accepted_time = []\n",
    "committed_time = []\n",
    "\n",
    "# accepts with more than 6 logs\n",
    "accept_underfit = []\n",
    "accept_underfit_dict = {}\n",
    "\n",
    "accept_overfit = []\n",
    "accept_overfit_dict = {}\n",
    "\n",
    "for i in range(0, len(tx_id)):\n",
    "    temp_list = []\n",
    "    if \"SELL\" == grouped_data.get_group(tx_id[i])[\"Tx_type\"].to_list()[0]:\n",
    "        temp_list = grouped_data.get_group(tx_id[i])[\"Time\"].to_list()\n",
    "        if len(temp_list) == 6 and grouped_data.get_group(tx_id[i])[\"Event\"].to_list()[5] == \"commit_tx\":\n",
    "            \n",
    "            actual_time = max(temp_list) - min(temp_list)\n",
    "            time_all_committed_accepts[tx_id[i]] = actual_time\n",
    "            time_passed_accepts.append(actual_time)\n",
    "            \n",
    "            df = grouped_data.get_group(tx_id[i])\n",
    "            received_time = df[df['Event'] == 'received_tx']['Time'].to_list()[0]\n",
    "            before_tendermint_time = df[df['Event'] == 'before_tendermint']['Time'].to_list()[0]\n",
    "            \n",
    "            validated = before_tendermint_time - received_time\n",
    "            validated_time.append(validated)\n",
    "            \n",
    "            check_time = df[df['Event'] == 'check_tx']['Time'].to_list()[0]\n",
    "            accepted = check_time - received_time\n",
    "            accepted_time.append(accepted)\n",
    "            \n",
    "            commit_time =  df[df['Event'] == 'commit_tx']['Time'].to_list()[0]\n",
    "            committed = commit_time - received_time\n",
    "            committed_time.append(committed)\n",
    "        elif len(temp_list) < 6:\n",
    "            accept_underfit.append(temp_list)\n",
    "            accept_underfit_dict[tx_id[i]] = temp_list\n",
    "        elif 7 >= len(temp_list) > 6 :\n",
    "            df_check = grouped_data.get_group(tx_id[i])\n",
    "            if len(df_check[df_check['Event'] == 'check_tx']['Time'].to_list()) > 1:\n",
    "                check_time = max(df_check[df_check['Event'] == 'check_tx']['Time'].to_list())\n",
    "            else:\n",
    "                check_time = df_check[df_check['Event'] == 'check_tx']['Time'].to_list()[0] \n",
    "            \n",
    "            actual_time = max(temp_list) - min(temp_list)\n",
    "            time_all_committed_accepts[tx_id[i]] = actual_time\n",
    "            time_passed_accepts.append(actual_time)\n",
    "            \n",
    "            df = grouped_data.get_group(tx_id[i])\n",
    "            received_time = df[df['Event'] == 'received_tx']['Time'].to_list()[0]\n",
    "            before_tendermint_time = df[df['Event'] == 'before_tendermint']['Time'].to_list()[0]\n",
    "            \n",
    "            validated = before_tendermint_time - received_time\n",
    "            validated_time.append(validated)\n",
    "           \n",
    "            accepted = check_time - received_time\n",
    "            accepted_time.append(accepted)\n",
    "            \n",
    "            commit_time =  df[df['Event'] == 'commit_tx']['Time'].to_list()[0]\n",
    "            committed = commit_time - received_time\n",
    "            committed_time.append(committed)\n",
    "            \n",
    "            accept_overfit.append(actual_time)\n",
    "            accept_overfit_dict[tx_id[i]] = temp_list"
   ]
  },
  {
   "cell_type": "code",
   "execution_count": null,
   "id": "2770417f",
   "metadata": {},
   "outputs": [],
   "source": []
  },
  {
   "cell_type": "code",
   "execution_count": 6,
   "id": "f30fc2d8",
   "metadata": {},
   "outputs": [
    {
     "data": {
      "text/plain": [
       "5"
      ]
     },
     "execution_count": 6,
     "metadata": {},
     "output_type": "execute_result"
    }
   ],
   "source": [
    "len(time_passed_accepts)"
   ]
  },
  {
   "cell_type": "code",
   "execution_count": 7,
   "id": "f23273da",
   "metadata": {},
   "outputs": [
    {
     "data": {
      "text/plain": [
       "0"
      ]
     },
     "execution_count": 7,
     "metadata": {},
     "output_type": "execute_result"
    }
   ],
   "source": [
    "len(accept_overfit)"
   ]
  },
  {
   "cell_type": "code",
   "execution_count": 8,
   "id": "b6763a9b-3269-49ca-965f-cde848823f3a",
   "metadata": {},
   "outputs": [
    {
     "data": {
      "text/plain": [
       "82"
      ]
     },
     "execution_count": 8,
     "metadata": {},
     "output_type": "execute_result"
    }
   ],
   "source": [
    "len(accept_underfit)"
   ]
  },
  {
   "cell_type": "code",
   "execution_count": 9,
   "id": "4bf0f120-d1c7-4287-bbff-6be0e4c43274",
   "metadata": {},
   "outputs": [
    {
     "data": {
      "text/plain": [
       "{'024b1f603bd74d79a643504d5c35870466322fbfaf97867bba7c0635451b9e4d': [48],\n",
       " '032e8977bbb7d782b0e5a689af0d0c3afc32fd1a9cf9f869e79e5242749b65e6': [117],\n",
       " '07f9e0c5d7e9b5781bf0a7981dbc3f17a930182c7ca5b3cbd62cb904a5810fba': [47],\n",
       " '08a1203b0500e33916e7a53828727429332c7d442c71fd42f24feca7a280557b': [7646,\n",
       "  7652],\n",
       " '0fabff7fa8c966d9e7fccd1e655dc4e9ee80c1ae30eff59811c7e06008cf05f9': [48],\n",
       " '10b2528cace42e86d2f11bbe9da0df5f0994d92ddb8bb61633d0fccdb2a457d8': [56],\n",
       " '10f5606a56aefd775106df2c85d2819866a3bdbd8c8fd1b1100214f9a488769e': [17116],\n",
       " '12a8ee71860a65348550771af15fc5ca4d969a0836c1435e1cad77ee4d68e551': [12355],\n",
       " '16d4b10d025ad6d7b69467409b6996a8a320e731318d9e28bf3234a81b8bf91f': [14660],\n",
       " '189b8da60d2c5996a96f2a3ccc8aad089b03a12b74761644adcf4bd92b10764a': [12020],\n",
       " '1b351d57dfe1906dcb18287c78bb3ce5edd7a3ecbcc8bb1f784c7721d4b53702': [43],\n",
       " '1d55606aec9e7d7190b499569e5e0a734bd0a6eecc86378abf6a62d6c392b6b3': [48],\n",
       " '1db20ff8f2c2eca4d558fa8931970dee3cc84f84e66e35864a0649e00e2edbcd': [102],\n",
       " '282a04f7009341eec1e1c25e161753e84cae59e0291d68fcfcb0b53b0a4a9053': [121],\n",
       " '294865a49c9ecff3ebe5ca42d96ad3b4064b7950813e39be50754203b7f7c773': [43],\n",
       " '29a7989e70160b72995253f507ed7a3f4667449d22706df970475c5a082cc906': [56],\n",
       " '2aaa094ee19ec746fe9c41d13091f0264e0f0893bbbefc0107236f73ad79c995': [47],\n",
       " '328625285d85d3ac7f5a0c67fd98f669aa25895b4e9cc05c9f1644dd9ce1412e': [51, 57],\n",
       " '3660e2a7590bbe9e84a3030f2a8026556eca7765c62a7dde464a98edc1b10f29': [132,\n",
       "  138],\n",
       " '36b2dffeb6f3e41692a8567bcd0ccc65a4dfdf11ad3b87e3af1e1b38c7473e91': [56],\n",
       " '3953f42dc62342afdc3f8c551cd2b18195e47da083c1ebbbd6573a46fe537598': [14801],\n",
       " '3e87d8e20cc9620e5e6928c09dc982a605e0003a29b31c908de2ee511c1d31b7': [40],\n",
       " '443d31c23e4b7e89a60c9ccf4cfb7fd236a911877bdf29d49f118a8de1aa9dfb': [104],\n",
       " '47c7601d2eeeab6208257c0011b58db3e72d40e72163741b114c5616478a833f': [47],\n",
       " '511f621d8a65546c2101a1f64c30f5a8629d9916e4298edf8fe28a2595a4b711': [14980],\n",
       " '516d18255e0a4c3273e6d20a824144919a3cc2bde0986f8335a804d3f611b426': [14672],\n",
       " '519a8e7573220a6a745cc2bbda5b1e0b36d65fbc2753c04b4a336fef6e74e1ac': [7791],\n",
       " '542c49e1ef2b9c14cbad2b5dd66c61cd30a261ca16616782c940204343b37ec7': [40],\n",
       " '5605ec9ff1d2c6c9f9f1d0a0f8f619138ffca7c7da54c4d5fca008cdaa61fdad': [48],\n",
       " '568cb5cb2d74bcd15d915bfd9fe95b77f629dab1e553f8a91b9d4b7bec72fd05': [53],\n",
       " '5baf5ff56685a8f651a2373174490673b16cabebe30fcfc7c9204822f9588abe': [99],\n",
       " '5e681ba0b5c6cdb52400aeaf4261db523fd245eb243e1a28ce8cc8c031511f19': [48],\n",
       " '5f951dd5bb37f1cceb6470b2a8e22d633ee7e68799efde370ee638728c69367a': [60],\n",
       " '619449ff1d56b6fdcc63f0ad915fd185b8171099cd6dd33d0d95e90a0199b8b1': [53,\n",
       "  66,\n",
       "  215,\n",
       "  221],\n",
       " '619f881e5d8c5c268bba22feb701596ceb463905f6a22ce47680f6abfaed28da': [7800,\n",
       "  7806],\n",
       " '629d51b3bfd24649ee31e5277a13d546e245ea0c00bf3c0367133a5737f3ec5e': [2823],\n",
       " '6ccd3afffa40f2e64acb13f1e7bfa3b4c3a44ac75ef5484352b2bf9d8dbb961a': [45],\n",
       " '74cc645b4724d460be39856a972d4af835314aed92d35bdee0cad946eca96cf9': [43],\n",
       " '78a415a7195ccfda5320f8557cf9bf51babf42950f872a0486ffb680fc7c4edd': [9855],\n",
       " '797e35b1fce63478e34f8457a26e195ef813d40637e98966bd059de3e5c8d396': [7873,\n",
       "  7879],\n",
       " '79b624d140ba945959175a1e26614bad0644121040c300ceb39621599fe376b1': [12533],\n",
       " '7a23c63014ea68f0656d97d5d17bc6412c2718428685f22795eb4c20a12aa1a3': [44],\n",
       " '7c67debfc8522a918e1b26e93819509f882199a45dd7dc3a9a8a02f95e9a3659': [49],\n",
       " '7c74aae65ef927aa407ce263971da19d402d653772cfd9d1783f7c988c84006c': [52],\n",
       " '80797b459f3a6cee2c0af6e9fbbf4dc21016cad3ac5e373023cea9c813a6cf73': [2478],\n",
       " '8287ae9ffff19457abe06d3502690d7e4aee3bf79b599a5380c305c116aaea43': [50],\n",
       " '85c04debe835bd46cfe5f41d894f70d068fbf41b457ce07b958fddf767b842a5': [42],\n",
       " '87eb3d2ed671c59cc8fcaf1ee1cfdfb18337da8c8a48de17e8b6219651b253eb': [55, 64],\n",
       " '8a2730e14143fa9002dc9c9718dee53f4f6ff9259ec51b815329486f1a949d37': [53],\n",
       " '906998f7c078457b443cec66dcae6882bf71a384eea6a13f8eb9ee45874048a4': [8089,\n",
       "  8094],\n",
       " '963327daf8bd18444fea8c3c1d64d4f8eb8a37cb158714b1d3c2c8a87c3f0799': [41],\n",
       " '967b817ebdee92ab95aca55e01ae65ffa9dd0aad589677344ab3bf56f6cde7af': [47],\n",
       " '97251b263aa8ba1a9be13e84cc8863c55a588a54513a3b772ad1a15376956a40': [7946,\n",
       "  7951],\n",
       " 'a11b6cad62207cd5ba512b104418090c978476cfe191b7fe043ee33fd77027aa': [48],\n",
       " 'a1363309d6b210641a5478e964744fd30e9cbee7000f1c2ed05de0d1cc793744': [43],\n",
       " 'a32362a993a37e3e68598bb80c5416bbfe1ec74d38e5fa3151c83dc0172bbf53': [49],\n",
       " 'a3f59e39482c4fac9190c159fdd0b22b71ecafe0e860a2bc987efe6cfa6ecdb5': [142,\n",
       "  149],\n",
       " 'a6a740dda0453070f2d9004e5ea2ff442c60db422eb61e7ed47f68002909513d': [131,\n",
       "  138],\n",
       " 'a79aef926ee3b1061cc358c22ed82c54db18760ae2d027186dd9bbf6f90b4e83': [8233,\n",
       "  8245],\n",
       " 'a9779095d150dbb0a1f8604bcfe148c0ee5cf2e5c733b227e647cba23ee881fc': [46],\n",
       " 'aa849501263d92b83a55c2c313bf2ec47ac7b5cc617c9f36e59a579c76464d25': [56],\n",
       " 'afe47f2fbb1da372e7653f4eb4c754c41a47fc361e6979a8b674c65379779679': [51],\n",
       " 'b0ef923dde9110c683b3c28e28a65effa9a507f6923ed0a825a4697b304fb601': [41],\n",
       " 'b1fbc8e277d0483758cad0b62ae829bcedb0daa789ee6ae8649c1ea83ec48366': [40],\n",
       " 'b2aeb4bfdf943bdf8aff4594f6a620f6ad3ca503c15a106f67bb8aaa00effb2c': [9905],\n",
       " 'b5fcc763f062e9622dbbe01f860ee208cc41b0fdfd7ee27cf1f8469d6bffc70b': [42],\n",
       " 'b605921897fab0c2157c1674f65509b97212fc82f27a01dd107d7d751aac255f': [12088],\n",
       " 'b76698e1420bf95d02e745e99b16e0498d187b1bfca0946de0105fee0b116e59': [46],\n",
       " 'b80bc1f51b72e005ced55cdbc86f189feb5fa18dbea10914fc77a7a5f9c0083c': [42],\n",
       " 'bb672f7ff8cc83a270331fc43574724502fc1c116bd16c720404cb3669f5d90d': [43],\n",
       " 'c39f6721c22b3a7ac74a6727fe483194064ca9cc1aa844361db903d0c35668dc': [117],\n",
       " 'cfaa226838ed4fe056c1b0f64a842e621307fe3593f3f942567e05ecc3d8daa1': [49],\n",
       " 'd4c84dca4de3e2eb363240de68f58b060fe3d80fa2e290a6acf6ba1e416d21fb': [50],\n",
       " 'dae4fb29b164be5185d09a65be9e4e3009f7c81457798522d22df209364c0059': [12572],\n",
       " 'e2b5612b491806428ccb181a344804a0fc45ed701adca44eacfbb83b32789f76': [109],\n",
       " 'e4839a987978fbe005fe93aca04890c8bb44770537071346b027c61fa718d669': [53],\n",
       " 'e6eb7b401d45acff4d5b24308376ad120209530ed2ea92ef235599bc3aeea671': [46],\n",
       " 'e9f299a8e0479ddc0467da81a94448be028d34f08d7ada608b2bc72bd0d5a5ab': [8313,\n",
       "  8319],\n",
       " 'f3bdd7269adebee95edbf10a7e61d1aeebb81b1952f9f82f69247e9adbabb598': [10465],\n",
       " 'f6d68ee1d05fa00ae7eafcbbc4ecdf0db506934bd8c8fbbfd448dc10694a5fc9': [42],\n",
       " 'f8deff4b247334be81d869b96fa23c6a0f28b6103c9f041f7f4ddd83e2658596': [2487,\n",
       "  2495],\n",
       " 'faaf16f9cdc1a2a72cf913a23d0f7c6e05d82228854002db622faed9dc32792b': [53, 60]}"
      ]
     },
     "execution_count": 9,
     "metadata": {},
     "output_type": "execute_result"
    }
   ],
   "source": [
    "accept_underfit_dict"
   ]
  },
  {
   "cell_type": "code",
   "execution_count": 10,
   "id": "e35e98ef",
   "metadata": {},
   "outputs": [
    {
     "data": {
      "text/plain": [
       "333.6"
      ]
     },
     "execution_count": 10,
     "metadata": {},
     "output_type": "execute_result"
    }
   ],
   "source": [
    "stat.mean(time_passed_accepts)"
   ]
  },
  {
   "cell_type": "code",
   "execution_count": 11,
   "id": "629b5685",
   "metadata": {},
   "outputs": [
    {
     "name": "stdout",
     "output_type": "stream",
     "text": [
      "333.60\n",
      "283\n",
      "468\n",
      "225\n",
      "104.14\n",
      "total sells = 5\n"
     ]
    }
   ],
   "source": [
    "# Analysis of CREATE Transaction\n",
    "accept_mean = \"{:.2f}\".format(stat.mean(time_passed_accepts))\n",
    "accept_median = stat.median(time_passed_accepts)\n",
    "accept_max = max(time_passed_accepts)\n",
    "accept_min = min(time_passed_accepts)\n",
    "accept_std_dev = \"{:.2f}\".format(stat.stdev(time_passed_accepts))\n",
    "\n",
    "print(accept_mean)\n",
    "print(accept_median)\n",
    "print(accept_max)\n",
    "print(accept_min)\n",
    "print(accept_std_dev)\n",
    "print(f\"total sells = {len(time_passed_accepts)}\")\n",
    "\n",
    "accept_dict = {\n",
    "               'min': accept_min,\n",
    "               'max': accept_max,\n",
    "               'average': accept_mean,\n",
    "               'median' : accept_median,\n",
    "               'standard_deviation' : accept_std_dev,\n",
    "               '# of txs' : len(time_passed_accepts)}"
   ]
  },
  {
   "cell_type": "code",
   "execution_count": 12,
   "id": "ce928826",
   "metadata": {
    "scrolled": true
   },
   "outputs": [
    {
     "data": {
      "text/html": [
       "<div>\n",
       "<style scoped>\n",
       "    .dataframe tbody tr th:only-of-type {\n",
       "        vertical-align: middle;\n",
       "    }\n",
       "\n",
       "    .dataframe tbody tr th {\n",
       "        vertical-align: top;\n",
       "    }\n",
       "\n",
       "    .dataframe thead th {\n",
       "        text-align: right;\n",
       "    }\n",
       "</style>\n",
       "<table border=\"1\" class=\"dataframe\">\n",
       "  <thead>\n",
       "    <tr style=\"text-align: right;\">\n",
       "      <th></th>\n",
       "      <th>min</th>\n",
       "      <th>max</th>\n",
       "      <th>average</th>\n",
       "      <th>median</th>\n",
       "      <th>standard_deviation</th>\n",
       "      <th># of txs</th>\n",
       "    </tr>\n",
       "  </thead>\n",
       "  <tbody>\n",
       "    <tr>\n",
       "      <th>SELL</th>\n",
       "      <td>225</td>\n",
       "      <td>468</td>\n",
       "      <td>333.60</td>\n",
       "      <td>283</td>\n",
       "      <td>104.14</td>\n",
       "      <td>5</td>\n",
       "    </tr>\n",
       "  </tbody>\n",
       "</table>\n",
       "</div>"
      ],
      "text/plain": [
       "      min  max average  median standard_deviation  # of txs\n",
       "SELL  225  468  333.60     283             104.14         5"
      ]
     },
     "execution_count": 12,
     "metadata": {},
     "output_type": "execute_result"
    }
   ],
   "source": [
    "results = pd.DataFrame(accept_dict, index = ['SELL'])\n",
    "results.to_csv('sell_analysis.csv', sep=',', encoding='utf-8')\n",
    "results"
   ]
  },
  {
   "cell_type": "code",
   "execution_count": null,
   "id": "a1f3ed60",
   "metadata": {},
   "outputs": [],
   "source": []
  }
 ],
 "metadata": {
  "kernelspec": {
   "display_name": "Python 3 (ipykernel)",
   "language": "python",
   "name": "python3"
  },
  "language_info": {
   "codemirror_mode": {
    "name": "ipython",
    "version": 3
   },
   "file_extension": ".py",
   "mimetype": "text/x-python",
   "name": "python",
   "nbconvert_exporter": "python",
   "pygments_lexer": "ipython3",
   "version": "3.8.10"
  }
 },
 "nbformat": 4,
 "nbformat_minor": 5
}
