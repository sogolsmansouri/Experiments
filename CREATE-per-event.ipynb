{
 "cells": [
  {
   "cell_type": "code",
   "execution_count": 1,
   "id": "c591f82b",
   "metadata": {},
   "outputs": [],
   "source": [
    "import pandas as pd\n",
    "import numpy as np\n",
    "import statistics as stat\n",
    "import matplotlib.pyplot as plt\n",
    "import seaborn as sns\n",
    "sns.set_style(\"white\")\n",
    "import statistics as stat"
   ]
  },
  {
   "cell_type": "code",
   "execution_count": 2,
   "id": "ca6969e2",
   "metadata": {},
   "outputs": [
    {
     "name": "stdout",
     "output_type": "stream",
     "text": [
      "               Event  Time Tx_type  \\\n",
      "0        received_tx  2869  CREATE   \n",
      "1  before_tendermint  2969  CREATE   \n",
      "2           check_tx  2985  CREATE   \n",
      "3         deliver_tx  3011  CREATE   \n",
      "4          end_block  3013  CREATE   \n",
      "\n",
      "                                               Tx_id Accept_id          time  \n",
      "0  5744711a042889d11a016a1268bb2b9e9cd53cc32fa64d...      None  1.733811e+09  \n",
      "1  5744711a042889d11a016a1268bb2b9e9cd53cc32fa64d...      None  1.733811e+09  \n",
      "2  5744711a042889d11a016a1268bb2b9e9cd53cc32fa64d...      None  1.733811e+09  \n",
      "3  5744711a042889d11a016a1268bb2b9e9cd53cc32fa64d...      None  1.733811e+09  \n",
      "4  5744711a042889d11a016a1268bb2b9e9cd53cc32fa64d...      None  1.733811e+09  \n"
     ]
    }
   ],
   "source": [
    "data = pd.read_csv('/home/smansou2/Desktop/experimentAnalysis/scdb-test-metrics.csv', names = ['Event', 'Time', 'Tx_type', 'Tx_id', 'Accept_id', 'time'])\n",
    "print(data.head())"
   ]
  },
  {
   "cell_type": "code",
   "execution_count": 3,
   "id": "59e3db22",
   "metadata": {},
   "outputs": [
    {
     "data": {
      "text/plain": [
       "5834"
      ]
     },
     "execution_count": 3,
     "metadata": {},
     "output_type": "execute_result"
    }
   ],
   "source": [
    "grouped_data = data.groupby('Tx_id')\n",
    "tx_id = list(grouped_data.groups.keys())\n",
    "len(tx_id)"
   ]
  },
  {
   "cell_type": "code",
   "execution_count": 4,
   "id": "1eab605f",
   "metadata": {},
   "outputs": [
    {
     "name": "stdout",
     "output_type": "stream",
     "text": [
      "#CREATEs =  2704\n"
     ]
    }
   ],
   "source": [
    "#new data frame to get the count of each transaction type\n",
    "data_unique_ids = data.drop_duplicates(subset = ['Tx_id'])\n",
    "\n",
    "create_count = 0\n",
    "create_ids = []\n",
    "for i in range(0, len(data_unique_ids)):\n",
    "    if data_unique_ids.iloc[i]['Tx_type'] == 'CREATE':\n",
    "        create_ids.append(data_unique_ids.iloc[i]['Tx_id'])\n",
    "        create_count += 1   \n",
    "\n",
    "\n",
    "print(f\"#CREATEs =  {create_count}\")"
   ]
  },
  {
   "cell_type": "code",
   "execution_count": 5,
   "id": "0f7eca59",
   "metadata": {},
   "outputs": [
    {
     "ename": "KeyError",
     "evalue": "'30dde698483f4f5c17186647a54cf21f2bfc745f4afb68a08bfeda867cbf7d1d'",
     "output_type": "error",
     "traceback": [
      "\u001b[0;31m---------------------------------------------------------------------------\u001b[0m",
      "\u001b[0;31mKeyError\u001b[0m                                  Traceback (most recent call last)",
      "Cell \u001b[0;32mIn[5], line 1\u001b[0m\n\u001b[0;32m----> 1\u001b[0m df_test \u001b[38;5;241m=\u001b[39m \u001b[43mgrouped_data\u001b[49m\u001b[38;5;241;43m.\u001b[39;49m\u001b[43mget_group\u001b[49m\u001b[43m(\u001b[49m\u001b[38;5;124;43m\"\u001b[39;49m\u001b[38;5;124;43m30dde698483f4f5c17186647a54cf21f2bfc745f4afb68a08bfeda867cbf7d1d\u001b[39;49m\u001b[38;5;124;43m\"\u001b[39;49m\u001b[43m)\u001b[49m\n",
      "File \u001b[0;32m~/.local/lib/python3.8/site-packages/pandas/core/groupby/groupby.py:817\u001b[0m, in \u001b[0;36mBaseGroupBy.get_group\u001b[0;34m(self, name, obj)\u001b[0m\n\u001b[1;32m    815\u001b[0m inds \u001b[38;5;241m=\u001b[39m \u001b[38;5;28mself\u001b[39m\u001b[38;5;241m.\u001b[39m_get_index(name)\n\u001b[1;32m    816\u001b[0m \u001b[38;5;28;01mif\u001b[39;00m \u001b[38;5;129;01mnot\u001b[39;00m \u001b[38;5;28mlen\u001b[39m(inds):\n\u001b[0;32m--> 817\u001b[0m     \u001b[38;5;28;01mraise\u001b[39;00m \u001b[38;5;167;01mKeyError\u001b[39;00m(name)\n\u001b[1;32m    819\u001b[0m \u001b[38;5;28;01mreturn\u001b[39;00m obj\u001b[38;5;241m.\u001b[39m_take_with_is_copy(inds, axis\u001b[38;5;241m=\u001b[39m\u001b[38;5;28mself\u001b[39m\u001b[38;5;241m.\u001b[39maxis)\n",
      "\u001b[0;31mKeyError\u001b[0m: '30dde698483f4f5c17186647a54cf21f2bfc745f4afb68a08bfeda867cbf7d1d'"
     ]
    }
   ],
   "source": [
    "df_test = grouped_data.get_group(\"30dde698483f4f5c17186647a54cf21f2bfc745f4afb68a08bfeda867cbf7d1d\")"
   ]
  },
  {
   "cell_type": "code",
   "execution_count": null,
   "id": "d702f9d0",
   "metadata": {},
   "outputs": [
    {
     "ename": "NameError",
     "evalue": "name 'df_test' is not defined",
     "output_type": "error",
     "traceback": [
      "\u001b[0;31m---------------------------------------------------------------------------\u001b[0m",
      "\u001b[0;31mNameError\u001b[0m                                 Traceback (most recent call last)",
      "Cell \u001b[0;32mIn[7], line 1\u001b[0m\n\u001b[0;32m----> 1\u001b[0m \u001b[43mdf_test\u001b[49m\n",
      "\u001b[0;31mNameError\u001b[0m: name 'df_test' is not defined"
     ]
    }
   ],
   "source": [
    "df_test"
   ]
  },
  {
   "cell_type": "code",
   "execution_count": 6,
   "id": "ba83a8d2",
   "metadata": {},
   "outputs": [
    {
     "ename": "TypeError",
     "evalue": "'list' object is not callable",
     "output_type": "error",
     "traceback": [
      "\u001b[0;31m---------------------------------------------------------------------------\u001b[0m",
      "\u001b[0;31mTypeError\u001b[0m                                 Traceback (most recent call last)",
      "Cell \u001b[0;32mIn[6], line 36\u001b[0m\n\u001b[1;32m     34\u001b[0m \u001b[38;5;28;01melif\u001b[39;00m \u001b[38;5;28mlen\u001b[39m(temp_list) \u001b[38;5;241m<\u001b[39m \u001b[38;5;241m6\u001b[39m:\n\u001b[1;32m     35\u001b[0m     create_underfit\u001b[38;5;241m.\u001b[39mappend(temp_list)\n\u001b[0;32m---> 36\u001b[0m     create_underfit_dict[\u001b[43mtx_id\u001b[49m\u001b[43m(\u001b[49m\u001b[43mi\u001b[49m\u001b[43m)\u001b[49m] \u001b[38;5;241m=\u001b[39m temp_list\n\u001b[1;32m     37\u001b[0m \u001b[38;5;28;01melif\u001b[39;00m \u001b[38;5;241m7\u001b[39m \u001b[38;5;241m>\u001b[39m\u001b[38;5;241m=\u001b[39m \u001b[38;5;28mlen\u001b[39m(temp_list) \u001b[38;5;241m>\u001b[39m \u001b[38;5;241m6\u001b[39m :\n\u001b[1;32m     38\u001b[0m     df_check \u001b[38;5;241m=\u001b[39m grouped_data\u001b[38;5;241m.\u001b[39mget_group(tx_id[i])\n",
      "\u001b[0;31mTypeError\u001b[0m: 'list' object is not callable"
     ]
    }
   ],
   "source": [
    "time_all_committed_creates = {}\n",
    "time_passed_creates = []\n",
    "validated_time = []\n",
    "accepted_time = []\n",
    "committed_time = []\n",
    "\n",
    "create_underfit = []\n",
    "create_underfit_dict = {}\n",
    "\n",
    "create_overfit = []\n",
    "create_overfit_dict = {}\n",
    "\n",
    "for i in range(0, len(tx_id)):\n",
    "    temp_list = []\n",
    "    if \"CREATE\" == grouped_data.get_group(tx_id[i])[\"Tx_type\"].to_list()[0]:\n",
    "        temp_list = grouped_data.get_group(tx_id[i])[\"Time\"].to_list()\n",
    "        if len(temp_list) == 6 and grouped_data.get_group(tx_id[i])[\"Event\"].to_list()[5] == \"commit_tx\":\n",
    "            \n",
    "            actual_time = max(temp_list) - min(temp_list)\n",
    "            time_all_committed_creates[tx_id[i]] = actual_time\n",
    "            time_passed_creates.append(actual_time)\n",
    "            \n",
    "            df = grouped_data.get_group(tx_id[i])\n",
    "            received_time = df[df['Event'] == 'received_tx']['Time'].to_list()[0]\n",
    "            before_tendermint_time = df[df['Event'] == 'before_tendermint']['Time'].to_list()[0]\n",
    "            validated = before_tendermint_time - received_time\n",
    "            validated_time.append(validated)\n",
    "            check_time = df[df['Event'] == 'check_tx']['Time'].to_list()[0]\n",
    "            accepted = check_time - received_time\n",
    "            accepted_time.append(accepted)\n",
    "            commit_time =  df[df['Event'] == 'commit_tx']['Time'].to_list()[0]\n",
    "            committed = commit_time - received_time\n",
    "            committed_time.append(committed)\n",
    "        elif len(temp_list) < 6:\n",
    "            create_underfit.append(temp_list)\n",
    "            create_underfit_dict[tx_id(i)] = temp_list\n",
    "        elif 7 >= len(temp_list) > 6 :\n",
    "            df_check = grouped_data.get_group(tx_id[i])\n",
    "            if len(df_check[df_check['Event'] == 'check_tx']['Time'].to_list()) > 1:\n",
    "                check_time = max(df_check[df_check['Event'] == 'check_tx']['Time'].to_list())\n",
    "            else:\n",
    "                check_time = df_check[df_check['Event'] == 'check_tx']['Time'].to_list()[0] \n",
    "            \n",
    "            actual_time = max(temp_list) - min(temp_list)\n",
    "            time_all_committed_creates[tx_id[i]] = actual_time\n",
    "            time_passed_creates.append(actual_time)\n",
    "            \n",
    "            df = grouped_data.get_group(tx_id[i])\n",
    "            received_time = df[df['Event'] == 'received_tx']['Time'].to_list()[0]\n",
    "            before_tendermint_time = df[df['Event'] == 'before_tendermint']['Time'].to_list()[0]\n",
    "            \n",
    "            validated = before_tendermint_time - received_time\n",
    "            validated_time.append(validated)\n",
    "           \n",
    "            accepted = check_time - received_time\n",
    "            accepted_time.append(accepted)\n",
    "            \n",
    "            commit_time =  df[df['Event'] == 'commit_tx']['Time'].to_list()[0]\n",
    "            committed = commit_time - received_time\n",
    "            committed_time.append(committed)\n",
    "            create_overfit.append(temp_list)\n",
    "            create_overfit_dict[tx_id[i]] = temp_list"
   ]
  },
  {
   "cell_type": "code",
   "execution_count": 7,
   "id": "44c89b86",
   "metadata": {},
   "outputs": [
    {
     "name": "stdout",
     "output_type": "stream",
     "text": [
      "14283.53\n",
      "56\n",
      "2431555\n",
      "41\n",
      "185940.74\n",
      "total creates = 171\n"
     ]
    }
   ],
   "source": [
    "# Analysis of CREATE Transaction\n",
    "create_mean = \"{:.2f}\".format(stat.mean(time_passed_creates))\n",
    "create_median = stat.median(time_passed_creates)\n",
    "create_max = max(time_passed_creates)\n",
    "create_min = min(time_passed_creates)\n",
    "create_std_dev = \"{:.2f}\".format(stat.stdev(time_passed_creates))\n",
    "\n",
    "print(create_mean)\n",
    "print(create_median)\n",
    "print(create_max)\n",
    "print(create_min)\n",
    "print(create_std_dev)\n",
    "print(f\"total creates = {len(time_passed_creates)}\")\n",
    "\n",
    "create_dict = {\n",
    "               'min': create_min,\n",
    "               'max': create_max,\n",
    "               'average': create_mean,\n",
    "               'median' : create_median,\n",
    "               'standard_deviation' : create_std_dev,\n",
    "               '# of txs' : len(time_passed_creates)}"
   ]
  },
  {
   "cell_type": "code",
   "execution_count": 8,
   "id": "72c99103",
   "metadata": {},
   "outputs": [
    {
     "data": {
      "text/plain": [
       "{'004ee743090d8916fba66d39bfe74945ca14099110822e0ba62892ab36f99c2e': [135,\n",
       "  142,\n",
       "  155,\n",
       "  197,\n",
       "  251,\n",
       "  259,\n",
       "  270],\n",
       " '0ead4d7339e3b96d567feec3e9cb58b495cd2305e1edeaa68e0af2a771eb61f0': [165,\n",
       "  174,\n",
       "  200,\n",
       "  219,\n",
       "  283,\n",
       "  286,\n",
       "  294],\n",
       " '0f1bebb13cfcfd61af6d938c64eb657c929017029242fe4b38ba99a5271b67c5': [53,\n",
       "  61,\n",
       "  74,\n",
       "  156,\n",
       "  189,\n",
       "  196,\n",
       "  204]}"
      ]
     },
     "execution_count": 8,
     "metadata": {},
     "output_type": "execute_result"
    }
   ],
   "source": [
    "create_overfit_dict"
   ]
  },
  {
   "cell_type": "code",
   "execution_count": 9,
   "id": "0d7a5da8",
   "metadata": {},
   "outputs": [
    {
     "data": {
      "text/plain": [
       "{'000ca0facc38fd65452d1901b2b1e78688afb255ab1e3b1ea4bfd1ad56ace910': 100,\n",
       " '000ee0ea0e590f69851632445c6bce32d6f1ae3e9c8900685708f6de9f69e634': 46,\n",
       " '00300f43e404541bbfb7ce696513b480e6fbfb0afdf2a0eea33e512bc6fc8383': 50,\n",
       " '003a499dbe24e464481ed63a137b47a574cbf37e012e8d6a8ee6a8ef202a8907': 51,\n",
       " '0047ceb4beb5a750c2a4216625242581e0171417ea2f03e60ee623db4f7a777d': 56,\n",
       " '004ee743090d8916fba66d39bfe74945ca14099110822e0ba62892ab36f99c2e': 135,\n",
       " '006d96c18e7a0b852886e5047ee87aeaded663fd917a5b4827eb8cee68e702e6': 48,\n",
       " '00873e6be6b94b6fca81a00ba02b4f09e8a95e5b005294e4dcbae67ec2901e11': 56,\n",
       " '009c2f5bf8dcc235da72dc8221e246695c2f688b4078b390785fcd6d3b1b686f': 80,\n",
       " '00bf844c7c723a2d34e6103098d13ac494127c75f0274633a9929d14bddb2d83': 49,\n",
       " '00c3340749184e93b8e835bccfd666afa7530a0274542b3e58a375e46da8add3': 50,\n",
       " '00d62734513af35352f45f93355e136dcbf9f737325417ae5a06fb2d3d77c220': 61,\n",
       " '010bafe66b767db833ca1e7af836c851fc7990014fff73be5f5181b83bf3c1e6': 51,\n",
       " '010e57408d0d36793a70fd57ef681896f55581ae4bf86b3b07277878c7321b47': 49,\n",
       " '0135fd50470d800fc3170fac8558ca0ccd77ac373740369c2f57e3faa6281576': 48,\n",
       " '014ec595c92d39e06d99b28db5aa9b980adbe7dcf64357260e1d04d85848b4cc': 45,\n",
       " '015ed0901108c928dd358a6d599f67b55ce61fcd410936649fd6e8ddcb9f61eb': 64,\n",
       " '01a2a44c6c6c50ed7797ea8a3b5ead2da0cfd72674038e8a6ba25f9782d95cd5': 56,\n",
       " '01aff3743d24cd8939761e254f25687b9d60ae4d3bdb1a167760e467be792e63': 60,\n",
       " '01b0404cb3c95c6803fa13b6f9d02ec904b956e36785651c7a0ab5a98fc4fd4b': 66,\n",
       " '01c6ac9c7bed65fb6d86d4ff0cc2194486d8061960a33214b0e255ee721bf561': 59,\n",
       " '01e2c4a390a84a7cc26ef4b0a87ac3a0d7511436bc5abfa03d1eca4b7cccfbcb': 247,\n",
       " '01ee6fd3d7f0a44fdf39e6e846e706f80c6707d2c173c3d333fce3c7b71bbf74': 51,\n",
       " '02441f21d0627a3ccc4452a2d44f684fa7f633a3cb10d885bc2e3517c454f205': 93,\n",
       " '027cc920188daa1806f7fd2034a6f7c0ca90bb942ced810b2331554c32cfd94f': 53,\n",
       " '027f1bb593163a2523d58011141e5d93e4cb8523f4a83dd958faad86e91910db': 41,\n",
       " '02943109aa92c5c26c534ce2b002fbcfe68b8707f682548230cd33c14edafea5': 62,\n",
       " '02a93b44cd88cd8a03b7bf2cc55994386358dba76a6c6f20b7be73d37b5b46ca': 48,\n",
       " '02cef63ef8178f80729904d9abd44a3070244625b3c2603d7609e3715c3c0bb7': 47,\n",
       " '02e82dd57b6f1055fac9e8a313da18c12af8689e7fdae0d0f543b9ecdae2c37d': 48,\n",
       " '0303cba7232ef9a214bd45cdde8d957f3bcfd8535419ec4c9797e0cc1c8165e6': 55,\n",
       " '030cadcd037cab8d3606f4fee25c65fc9b8249fda888671b40054fb61abe838c': 58,\n",
       " '031b22eb30af49456bdcfa30340985a7e2a9a16242f28cc0dba92fafca01c647': 68,\n",
       " '031c850d0156cf4d0c6e0414de242d9abfd17fc60cf90aff25e5fbf07f966365': 60,\n",
       " '032c421e363194b3a6e4f005c1c807ef9bd8ebb995bf350d6a9257bc6a41e90e': 55,\n",
       " '033ce13416c9d0e978369807996753bfb04054f4c67a29e6b9cf53f02d9eb358': 48,\n",
       " '0389559c2f39014e6ce7952f729eb243bbf0cb7fe0a4d762c66f28993eed8593': 75,\n",
       " '03acbab9aed3b61c0c673eb8ff598f6628dfe17fad52853aebcb925c85a1d81e': 47,\n",
       " '03bd43df1d55071106f5ce1c59090ffbdee400b5a00d4935451b20bf7f5b8c62': 60,\n",
       " '03e28e9fe378b38bbca5c4420fe43ac3e2a450d39baeb1ec277e23199064c621': 43,\n",
       " '03f5df069e277f7c440fa6edef176bd7af1b633cac42d0d12d217e14b66f5d09': 97,\n",
       " '03f905bc5e280adf1dec5b701ad74d4ac5599719e5916c60b12f54579ac66236': 67,\n",
       " '03fc2b0cc9d36e108835fec808bf1a7230608bbc1be78c14189cac36a7da51ca': 157,\n",
       " '040b092135a7c06c325d93490c7ea3ede3140fe173e17ef304222321211986fa': 44,\n",
       " '0420a91d78b3fdc3332d2314782ad386adf22ebb39aae181a614eab42ad3f0df': 53,\n",
       " '044dc67a1b40367179e5852392566c063d67e2d0eacbd834473103ccd4d2c046': 41,\n",
       " '045fc29d400260c24973fe6d2a9c23a6184397ca8275a304e5314d13b8906d1b': 59,\n",
       " '047624b4510e3f2423d07c6fa13dd483e7a957b9222f28a20b110c2af78de539': 75,\n",
       " '0481e51fd6e8bd987672cbbe7ec0afd6fc13b66b427a700426588fa2c0aebd90': 109,\n",
       " '04879ef214c76be088c73354ec8d6e653e5015729052f4a378ca27217e6ec25e': 72,\n",
       " '04e328be00c267ba97d1790c7117eb89b5d92f9f138c138dfe94296992784ee4': 55,\n",
       " '04eb36be7c64480b0c035109973f7b2274162c0ffaac7798d91723aae9d64c86': 48,\n",
       " '054ff94e8e5533333114a8fa365715bd4ab5e2c73d57e76c608526f7401a9c01': 75,\n",
       " '0564e1bc3a20fa33bf1e4e2fcc9808aeedc5f7b89617fe754f3e7142a66c74f7': 49,\n",
       " '057cc6b942e9682cbc11de989ea815d5326a5d0ffec7240660245c2f6006aaa5': 52,\n",
       " '0586cf0f9dbad6a00df4d9bf0cfed03c406c79da3b8042550e6cd6b1f807cb9f': 97,\n",
       " '05b8a1e8bb616642a5c81097cbc02c9e3136082fd3f37caad28c51bb27f245b7': 67,\n",
       " '05bc111697ee178d35ce8613de7735bacc6927965bb604788329b67d9089db7f': 49,\n",
       " '05c20344f0bad05cfa94ed090a7290da5971244a14bedba86492bc5f9becacae': 53,\n",
       " '05c3a540076b27cd31a76c4dc2207b44ae9ff46ef6f01fc83ca7139afdfdd147': 56,\n",
       " '05f059c4a0f6b8da6ab9d5ff36d09873681de8f7ae043e503d4860ab88108d18': 50,\n",
       " '0621e80b6830c4726296ad967d79533ead146db33df9cd68f1b38b72243836c7': 55,\n",
       " '063b3cabf4187677ef82608cd6417f88c8d3b652015926f27b3a9cfb02ed001a': 61,\n",
       " '064a75f4b9814d0559798a4c3122c2fe266e4bc1bd8058026b21eebed704a119': 55,\n",
       " '065ae4f96dc9f2561f3e431e4974bec09d2ea218b390b2afb2c040d138a51049': 56,\n",
       " '06642ea9f2b63c4a55b6a4b2cd0591230304ca03f29acc3c3c176f013829767a': 50,\n",
       " '066fc6d39960046cba67297891393d37512785f78a99435254f4c74d26915542': 50,\n",
       " '0670a1448db72c80e2273d082f843035f1a26ed867f6c3f0681e53b9b20acb0e': 53,\n",
       " '067833b10a046a7766f4015102585cd1746062c225902314ab8b122cd37f567d': 62,\n",
       " '068748faf836967d2a409ead6deef0512e09ca2f420b6e7c5e9e615e7facc4f4': 55,\n",
       " '06c1aeb5f2868f7e8ffa94422f4fd82c023fe76796d25b468ae712bf934d2a7d': 49,\n",
       " '06d240bf4073ff753d8990ab5a29e2fad5a23fa0e80c3df360ed6416fbbef913': 64,\n",
       " '070e95357b2b7c7a5897d730dee012cd5a47cc5b3ddafa0fe900381193c5f1bf': 58,\n",
       " '071fa42163f1259288901d35bd571730450f98d6ac9fac3fbb1382e5540588f7': 78,\n",
       " '072e40926ae59ca4278235cc069c4b50c0c10a5d88af0ecd5e40194e604924b4': 61,\n",
       " '0730d9ec0734f21a92fc246299757eddca422d7c4958124bd691b0f8ab9f2e48': 51,\n",
       " '0753e56851c22ebe065c6dd4c7e89a879767fbb3c1973a6a5bb8c8b6329e6fe0': 58,\n",
       " '0757ff8efd5f2e7b2d8fba655a95e18f99726ad300fbede391d74dc47b4aa855': 50,\n",
       " '075c47fc018f025541adfe71ad6b40c0390855f91a7a90678aafb3cf269cce0a': 42,\n",
       " '076a3a227124b4db0bf595db8b81d9ab367b156241b09923be550667c059c189': 65,\n",
       " '0787c642527baa2d095cde4e1ae8f5043398483f67f03e19d536b9aa8ccea104': 63,\n",
       " '079ed07b13e08e30010837d0a5f0e3334291ae089e5df623e88f47766cd17661': 99,\n",
       " '079f11d0285d1e1a1aaffe2baefac0e9d55985e7260c6644f8215ceae99aa512': 60,\n",
       " '07cf831954d5be00d4c7083b37742c09f240c0019063bce46a768ee6d4a94a53': 123,\n",
       " '08033ff37f602d85a9876d89107e006cd4110b52199d64f4abf4cccb820daf3c': 115,\n",
       " '0824383fb9a6377716fdd03314a4f8297c61096bdf2f16f4de722dbf571e49b1': 50,\n",
       " '0831f6925b28bab289155811b24d6566b9aeb8221517dd7f6ce753b51d45ae8a': 52,\n",
       " '0855c5926d9c298a6d58801a1caf6f5c2545bbf684c7d8787bbc60a2b3d138dc': 50,\n",
       " '0876fe007bdd910cbe8e904858c1a602e1befa636d0e5fad2712e87a78f8cf73': 51,\n",
       " '0878201e187022812336a75e43a58ea102bfd02005d011facd5022a201c64391': 66,\n",
       " '08807ed2d492ad74103dea0298ce5ca3998aa5888a9cfe07261f4a5e115f0111': 64,\n",
       " '08c2995b3bd9327bf15ffb447ad846d37d111d91c677149f9a2e9ca349831a18': 57,\n",
       " '090d4f6dedbe3442087d05d8708b5c6117f89d2b374f40b16c6e7bfdd0098271': 59,\n",
       " '09112676c1423624357c9ed0dcd980d58b9e1e724d33488e9e2439b5f967dfa8': 47,\n",
       " '091875064b9f75e067d24d66efa9973f5505e3f8b9c3bf1df1544556a612e475': 57,\n",
       " '094421cc2d6f51e8894549fd8afac61ab7b95751c78615486b81850ca1e86b55': 48,\n",
       " '095e437637ae738fd25127160cf366ecc3e7710ed4a39744812c8cb8e9e850ed': 57,\n",
       " '098020979214c0d7753f3c9740470c163b148ef76fb81a33b1811b879dd8a9a1': 43,\n",
       " '098bf6991c1f33e9ded49a2993b83aedb7d9d9e0c19eae400285b005fac38f95': 85,\n",
       " '09ba2215735962ec144ef43a5a7b5df6fefe15aca33a917f0cc5b9fc2d39d92d': 48,\n",
       " '09bbfbbc1046804ece505f5e8fc2f23da31dc87f11c9d91acce027152dd1367c': 64,\n",
       " '09c602c94321422bb17155422d1681ebdede6e740cf8b44c6456b856b5be8b65': 62,\n",
       " '09ec861454096721e1e69296b8e5d85daccf77857d50f17f418fa4ed620b71e1': 49,\n",
       " '09ee57f31a67dffea47303c1f91fa451110d38832744f95743643d263548c2e2': 56,\n",
       " '09f7e6453f08e26e65a9a889c26c456faa7c62d9109f4f349a65648e08425d24': 55,\n",
       " '0a017402980e7a890c90724817add59f55c4f6d5ebf249bfc70645fd54bed385': 55,\n",
       " '0a1bc2dd599a7236a993ff6c049084b6259bf6832dd743e56a14f3b95e7dff7f': 52,\n",
       " '0a2c11c3b8130a1e9500de9f853d85a3b93e5f38112ecea6b499d93f558162bf': 90,\n",
       " '0a478f5de48089391c77071b1714da80bf1b19347ae3948a2688e97ed4a3e01a': 45,\n",
       " '0a583a022a8db73d5fbaf9957d67b40cd91665d32d33e43a30e2245915ad5701': 54,\n",
       " '0a6f70c974d571bfd806f4c8e084e3fcaba776d52bdd3904cf32989b0900ae95': 94,\n",
       " '0a7e56fc9ee400b4f135ee5fe04bc5a39806e923e6cc740ac9761a10b6d9106f': 47,\n",
       " '0a7f787626cc8314aaff6968bff7090d74d676519d5c4fc5042d27628cfafa54': 51,\n",
       " '0a95f39b9416be28f1fef928103820016f43e59da7ce08cbbaa79e6a61710cda': 90,\n",
       " '0aab6dca6700792b155b31f917ab1449a7611812e810fd01e387a879be384be6': 74,\n",
       " '0ac7ed650ecca1069627fb53507142f9002467fda2ce925bc90cd487e96b3b3b': 59,\n",
       " '0ad031b1f7797c7ac0b7445fc056f9d7454ce8c14db4e6b1242a5c402f53d4b2': 47,\n",
       " '0ae1307cbdf46942b32e823853ca6ee043c9d20ccafa97879546a8e532076e7f': 61,\n",
       " '0ae9320492c1a76d41c7cc908e407a4f3e4f1c4586f491bb590fbf1c45ea7eb9': 59,\n",
       " '0af6d92e4ac57a31df27eef57090fc1cf7676af62beb6dd4f91f1f0d3bbfca9f': 2431555,\n",
       " '0affea0286ac93bd4bb8558fcc702ddccf2c1909d4039cee35a07bfcf81614a0': 47,\n",
       " '0b02a5586d5084df990fb2a825ba93d67725f0e17c2684b3771a7aadfc685ce6': 47,\n",
       " '0b0e0c20cfd9d7bb09a39bd0da9abb2541712a34e90701d47197f3ce912a2e70': 74,\n",
       " '0b137dfa653c6d502b14091b9a9863e9a1092a31bc0ec81c51648df9c001c528': 46,\n",
       " '0b36b154d4c0bbafbf0cd18547abeed3f68b177acf0eca38d7b42b2d7ee517cc': 63,\n",
       " '0b38cff0c264046e25fa2a1aab6838470e4bf42fb19161c6b093527a526ef7d7': 50,\n",
       " '0b5f34ed9f953646b5a7c241b015463ae3385d2118c929ce9ccc9f6823f95b73': 58,\n",
       " '0b6ca0af78b6104e72e157806833a11d0e5bc92a01e1407fc79decb20d5650de': 53,\n",
       " '0b74620426dbf69bd16a921124e1d381174fb7e366063bb7f61c0e3fb761ff7c': 58,\n",
       " '0b7629421fd775036ac7872c8ead411c7b877a53510440efa96b3b2cf1639143': 53,\n",
       " '0b8ddf6e1067f0600fd3c71eac4a908e0e1682b2f6dbe2c42a504bc436059832': 66,\n",
       " '0ba99ea8e1033a073ad611a7da767aed847949d7a1fb2b0543a8ada7d5de4dad': 60,\n",
       " '0bd92132f9c5b3468121510c60b01f88f9fdd4548e33460d87f9da466ec49356': 56,\n",
       " '0c2a00081d934a23fe3a77f3a5bb8e66665378993a676ecbd2f22c870261b918': 92,\n",
       " '0c98c2fc30c5abe6a7a865e1e6447d7d31b08b32cac8d4f5c229656aebe86473': 238,\n",
       " '0ca84f06c6de26ddf3d5f8c8a29056ccff8912a463b41c436c86d9d1caaeaed6': 53,\n",
       " '0cb763b0a736b95bdd2a6e304d1a55bc2295eb98c5bcf69733452c254dfc35bc': 63,\n",
       " '0d3192379bce2c36190a99151d0e7a7f5b89f480935e64cbe5541515689425b3': 62,\n",
       " '0d58be33121fe4a199efd510739dea12b028227a27c47483955be36d4d50db05': 52,\n",
       " '0d6786a9340a039b43f72173e885e963b8be2a52dd7934e188a05ac506e81eab': 53,\n",
       " '0d6b165794812a722379439850e126b573b2ad5837293f88126c72cfea87a576': 54,\n",
       " '0d8145053ca4064f32c6cd6083dc25a650eb514dd25d9f9d70a41722c97f330f': 46,\n",
       " '0d8274cea993021179680b19f06c85ff9523e682f33f9e0b41a10c7da1ca9fce': 55,\n",
       " '0db509ca66d673d65ee16f9e91b07bae88783825378c16b0df8b3a96acd7517b': 66,\n",
       " '0de0239c9756856469d4f0547da7494d5b77182b7e6b34e3d1c8e37da57e2d40': 44,\n",
       " '0de4cb1f25ac5f89598f9bd18c254e09a8d11e33d3173684880a8739777ad46d': 64,\n",
       " '0dfb084777d107400b8ee6be177e2fc941f0a9432245f7fc855fdd61f410d556': 60,\n",
       " '0e1c1e8a552c7a4cdda748556d0a40a2f18008c0badfefc720e34c90a0d03b2f': 53,\n",
       " '0e288cb8c1bd588b1266a09c3d8ed851a01540188d76a74f2eca9a4d172c932c': 106,\n",
       " '0e2c3c58e43a85dd76acc567f70f9e48f5f6530f5534fe6968af21ab562f0909': 63,\n",
       " '0e3d898afd5a64ef059deef60e1c1f79b6960f8da94b6b44ff42d25a14f84403': 47,\n",
       " '0e57f33b8fbe119759ddd912155016d46e48d3143f59f24391078d9fb64a1368': 59,\n",
       " '0e6fda0da445a68cbcf52cdb4a309dcd9a7b2030bf874b2eb4037bd19c19201e': 95,\n",
       " '0e7017dfb513a8b19e1a10443194a47d9ea68b47ff03ba954685dcf6bdc3df6b': 89,\n",
       " '0e884546363e42fcc089a15c6d89106435de7b855dae80df134dee138017f6c9': 49,\n",
       " '0e8b6f45f865c2c2cdb78532c1b3bb1407c58cbae8800818f50acdb7e973628e': 54,\n",
       " '0ead4d7339e3b96d567feec3e9cb58b495cd2305e1edeaa68e0af2a771eb61f0': 129,\n",
       " '0ebc35107ec67ba8b26851dcfab33c794f254df7411354f7f68aa84730f5b130': 59,\n",
       " '0ebf48f2a8e9ac8ca6481f2bfa9f87757d2c4386c6e148edd325d6d2b0fd487b': 55,\n",
       " '0ef1f5f093c47e633578ceac2b63b49254349474c9f6f42f5c24e9ce063488b1': 69,\n",
       " '0efaa62135531ada3d199f7d340d38840404c383e8b089e9e37174d4447100ac': 66,\n",
       " '0efcd37bc11d02db71e95254b03ce131f1207009a9c79a9f61ce05d2707b81f9': 73,\n",
       " '0f0ad8d147344935b970a13599375c89586f8b3d151ab42e94ec71cba61cba7f': 63,\n",
       " '0f1bebb13cfcfd61af6d938c64eb657c929017029242fe4b38ba99a5271b67c5': 151,\n",
       " '0f2503663d4678fef985184b78fa8e3c43e63311283b990d6165c4cdae49e128': 67,\n",
       " '0f30820a7459d394dacc7b85209dcd0cc2c4b21eeb2d559613f5d63c9a7c2696': 71,\n",
       " '0f463f644aa8fc1b7dcbc421f515bfbaf41998b9b4c57ba9f6599d2388212dcc': 53,\n",
       " '0f4b2e625646b9028fde64fe8c5cb1414464bfd24033811de37287d386cb3ce4': 50,\n",
       " '0f5639e597961bcd3fae9ed7b7e2add5d4dd4db075a5066f22d3827f8ad78457': 65,\n",
       " '0f60b9367dfe8a6ebb824039e0c8b82bb3a418832a23cc6b7602792cc31084c6': 60,\n",
       " '0f6ae5e787160641eb5a0daeb57ab03991f0d9efdf35d5d0444445b87128651e': 54}"
      ]
     },
     "execution_count": 9,
     "metadata": {},
     "output_type": "execute_result"
    }
   ],
   "source": [
    "time_all_committed_creates"
   ]
  },
  {
   "cell_type": "code",
   "execution_count": 10,
   "id": "b27098bc",
   "metadata": {},
   "outputs": [
    {
     "data": {
      "text/html": [
       "<div>\n",
       "<style scoped>\n",
       "    .dataframe tbody tr th:only-of-type {\n",
       "        vertical-align: middle;\n",
       "    }\n",
       "\n",
       "    .dataframe tbody tr th {\n",
       "        vertical-align: top;\n",
       "    }\n",
       "\n",
       "    .dataframe thead th {\n",
       "        text-align: right;\n",
       "    }\n",
       "</style>\n",
       "<table border=\"1\" class=\"dataframe\">\n",
       "  <thead>\n",
       "    <tr style=\"text-align: right;\">\n",
       "      <th></th>\n",
       "      <th>min</th>\n",
       "      <th>max</th>\n",
       "      <th>average</th>\n",
       "      <th>median</th>\n",
       "      <th>standard_deviation</th>\n",
       "      <th># of txs</th>\n",
       "    </tr>\n",
       "  </thead>\n",
       "  <tbody>\n",
       "    <tr>\n",
       "      <th>CREATE</th>\n",
       "      <td>41</td>\n",
       "      <td>2431555</td>\n",
       "      <td>14283.53</td>\n",
       "      <td>56</td>\n",
       "      <td>185940.74</td>\n",
       "      <td>171</td>\n",
       "    </tr>\n",
       "  </tbody>\n",
       "</table>\n",
       "</div>"
      ],
      "text/plain": [
       "        min      max   average  median standard_deviation  # of txs\n",
       "CREATE   41  2431555  14283.53      56          185940.74       171"
      ]
     },
     "execution_count": 10,
     "metadata": {},
     "output_type": "execute_result"
    }
   ],
   "source": [
    "results = pd.DataFrame(create_dict, index = ['CREATE'])\n",
    "results.to_csv('create_analysis.csv', sep=',', encoding='utf-8')\n",
    "results"
   ]
  },
  {
   "cell_type": "code",
   "execution_count": null,
   "id": "8ad40cbc",
   "metadata": {},
   "outputs": [],
   "source": []
  }
 ],
 "metadata": {
  "kernelspec": {
   "display_name": "Python 3 (ipykernel)",
   "language": "python",
   "name": "python3"
  },
  "language_info": {
   "codemirror_mode": {
    "name": "ipython",
    "version": 3
   },
   "file_extension": ".py",
   "mimetype": "text/x-python",
   "name": "python",
   "nbconvert_exporter": "python",
   "pygments_lexer": "ipython3",
   "version": "3.8.10"
  }
 },
 "nbformat": 4,
 "nbformat_minor": 5
}
